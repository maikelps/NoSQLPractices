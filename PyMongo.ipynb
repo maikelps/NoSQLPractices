{
 "cells": [
  {
   "cell_type": "code",
   "execution_count": 27,
   "metadata": {},
   "outputs": [],
   "source": [
    "from pymongo import MongoClient\n",
    "from pprint import pprint\n",
    "import datetime\n",
    "import re"
   ]
  },
  {
   "cell_type": "code",
   "execution_count": 28,
   "metadata": {},
   "outputs": [],
   "source": [
    "host= \"rhea.isegi.unl.pt\"\n",
    "port=\"27017\"\n",
    "database = \"worldwideimporters\"\n",
    "user=\"mongo_group_14\"\n",
    "password=\"249774l78m84D1507a9GY9410sy08U83\"\n",
    "protocol=\"mongodb\"\n",
    "client = MongoClient(f\"{protocol}://{user}:{password}@{host}:{port}/{database}\")"
   ]
  },
  {
   "cell_type": "code",
   "execution_count": 29,
   "metadata": {},
   "outputs": [
    {
     "name": "stdout",
     "output_type": "stream",
     "text": [
      "Database info: Database(MongoClient(host=['rhea.isegi.unl.pt:27017'], document_class=dict, tz_aware=False, connect=True), 'worldwideimporters')\n",
      "\n"
     ]
    }
   ],
   "source": [
    "db = client.worldwideimporters\n",
    "print(f\"Database info: {db}\\n\")"
   ]
  },
  {
   "cell_type": "code",
   "execution_count": 30,
   "metadata": {},
   "outputs": [
    {
     "name": "stdout",
     "output_type": "stream",
     "text": [
      "The database contains 3 collections\n",
      "First 5 collections: ['customers', 'orders', 'people']\n"
     ]
    }
   ],
   "source": [
    "collection_list = db.list_collection_names()\n",
    "print(f\"The database contains {len(collection_list)} collections\")\n",
    "\n",
    "print(f\"First 5 collections: {collection_list}\")"
   ]
  },
  {
   "cell_type": "code",
   "execution_count": 31,
   "metadata": {},
   "outputs": [
    {
     "data": {
      "text/plain": [
       "[]"
      ]
     },
     "execution_count": 31,
     "metadata": {},
     "output_type": "execute_result"
    }
   ],
   "source": [
    "# Useful code snipets Resources:\n",
    "\n",
    "import datetime\n",
    "\n",
    "d = datetime.datetime(2021, 5, 5, 0, 0, 0, 0)\n",
    "\n",
    "list(db.collection2.find({\"last_modified\":{\"$lt\": d}} ,{\"name\":1, \"last_modified\":1}).limit(5))"
   ]
  },
  {
   "cell_type": "markdown",
   "metadata": {},
   "source": [
    "Authors: \n",
    "\n",
    "* Maikel Sousa (m20200735)\n",
    "* Catarina Moreira (m20201034)\n",
    "* Luisa Barral (m20201045)\n",
    "* Xavier Goncalves (m20201090)\n",
    "\n",
    "\n",
    "# Answering the questions:\n",
    "\n",
    "0. __Example Question__ _How many orders exist in the database?_"
   ]
  },
  {
   "cell_type": "code",
   "execution_count": 32,
   "metadata": {},
   "outputs": [
    {
     "name": "stdout",
     "output_type": "stream",
     "text": [
      "The database contains 73595 orders.\n"
     ]
    }
   ],
   "source": [
    "print(f\"The database contains {db.orders.count_documents({})} orders.\")"
   ]
  },
  {
   "cell_type": "markdown",
   "metadata": {},
   "source": [
    "__1. How many people records don't have the UserPreferences field?__"
   ]
  },
  {
   "cell_type": "code",
   "execution_count": 33,
   "metadata": {},
   "outputs": [
    {
     "name": "stdout",
     "output_type": "stream",
     "text": [
      "The people collection has 929 without the UserPreferences field.\n"
     ]
    }
   ],
   "source": [
    "records = db.people.count_documents( { \"UserPreferences\" : { \"$exists\": False } } )\n",
    "\n",
    "records\n",
    "\n",
    "print(f\"The people collection has {records} without the UserPreferences field.\")"
   ]
  },
  {
   "cell_type": "markdown",
   "metadata": {},
   "source": [
    "__2. How many customer records are valid after `November 2015`?__"
   ]
  },
  {
   "cell_type": "code",
   "execution_count": 34,
   "metadata": {},
   "outputs": [
    {
     "name": "stdout",
     "output_type": "stream",
     "text": [
      "After November 2015, the database has 9 valid customers.\n"
     ]
    }
   ],
   "source": [
    "# Taking the day before the first day of November 2015 to use the greater operator \n",
    "dateNov2015 = datetime.datetime(2015, 10, 31, 0, 0, 0, 0) # interval  01/11/2015 - now\n",
    "\n",
    "valid_cust = db.customers.count_documents({\"ValidFrom\":{\"$gt\": dateNov2015}})\n",
    "\n",
    "print(f\"After November 2015, the database has {valid_cust} valid customers.\")"
   ]
  },
  {
   "cell_type": "markdown",
   "metadata": {},
   "source": [
    "__3. How many people have their `Title` equal to `Team Member`?__"
   ]
  },
  {
   "cell_type": "code",
   "execution_count": 35,
   "metadata": {
    "scrolled": true
   },
   "outputs": [
    {
     "data": {
      "text/plain": [
       "[{'_id': ObjectId('6091cbcf45ad05f8e5c847ba'),\n",
       "  'PersonID': 2,\n",
       "  'FullName': 'Kayla Woodcock',\n",
       "  'PreferredName': 'Kayla',\n",
       "  'SearchName': 'Kayla Kayla Woodcock',\n",
       "  'IsPermittedToLogon': True,\n",
       "  'LogonName': 'kaylaw@wideworldimporters.com',\n",
       "  'IsExternalLogonProvider': False,\n",
       "  'HashedPassword': '0x616E9B558976525E7F14D780EBAE80C68586958DC97C506DB418E2E2C49E340E',\n",
       "  'IsSystemUser': True,\n",
       "  'IsEmployee': True,\n",
       "  'IsSalesperson': True,\n",
       "  'UserPreferences': '{\"theme\":\"humanity\",\"dateFormat\":\"dd/mm/yy\",\"timeZone\": \"PST\",\"table\":{\"pagingType\":\"full\",\"pageLength\": 50},\"favoritesOnDashboard\":true}',\n",
       "  'PhoneNumber': '(415) 555-0102',\n",
       "  'FaxNumber': '(415) 555-0103',\n",
       "  'EmailAddress': 'kaylaw@wideworldimporters.com',\n",
       "  'Photo': nan,\n",
       "  'CustomFields': {'OtherLanguages': ['Polish', 'Chinese', 'Japanese'],\n",
       "   'HireDate': '2008-04-19T00:00:00',\n",
       "   'Title': 'Team Member',\n",
       "   'PrimarySalesTerritory': 'Plains',\n",
       "   'CommissionRate': '0.98'},\n",
       "  'OtherLanguages': ['Polish', 'Chinese', 'Japanese'],\n",
       "  'LastEditedBy': 1,\n",
       "  'ValidFrom': datetime.datetime(2016, 5, 31, 23, 14),\n",
       "  'ValidTo': datetime.datetime(9999, 12, 31, 23, 59, 59)},\n",
       " {'_id': ObjectId('6091cbcf45ad05f8e5c847bb'),\n",
       "  'PersonID': 3,\n",
       "  'FullName': 'Hudson Onslow',\n",
       "  'PreferredName': 'Hudson',\n",
       "  'SearchName': 'Hudson Hudson Onslow',\n",
       "  'IsPermittedToLogon': True,\n",
       "  'LogonName': 'hudsono@wideworldimporters.com',\n",
       "  'IsExternalLogonProvider': False,\n",
       "  'HashedPassword': '0x23668CCC579015EA934736C3D7B87E86360EB5EEE164C4368A7B103C11E3436E',\n",
       "  'IsSystemUser': True,\n",
       "  'IsEmployee': True,\n",
       "  'IsSalesperson': True,\n",
       "  'UserPreferences': '{\"theme\":\"dark-hive\",\"dateFormat\":\"DD, MM d, yy\",\"timeZone\": \"PST\",\"table\":{\"pagingType\":\"simple_numbers\",\"pageLength\": 10},\"favoritesOnDashboard\":true}',\n",
       "  'PhoneNumber': '(415) 555-0102',\n",
       "  'FaxNumber': '(415) 555-0103',\n",
       "  'EmailAddress': 'hudsono@wideworldimporters.com',\n",
       "  'Photo': nan,\n",
       "  'CustomFields': {'OtherLanguages': [],\n",
       "   'HireDate': '2012-03-05T00:00:00',\n",
       "   'Title': 'Team Member',\n",
       "   'PrimarySalesTerritory': 'New England',\n",
       "   'CommissionRate': '3.62'},\n",
       "  'OtherLanguages': [],\n",
       "  'LastEditedBy': 1,\n",
       "  'ValidFrom': datetime.datetime(2016, 5, 31, 23, 14),\n",
       "  'ValidTo': datetime.datetime(9999, 12, 31, 23, 59, 59)},\n",
       " {'_id': ObjectId('6091cbcf45ad05f8e5c847bc'),\n",
       "  'PersonID': 4,\n",
       "  'FullName': 'Isabella Rupp',\n",
       "  'PreferredName': 'Isabella',\n",
       "  'SearchName': 'Isabella Isabella Rupp',\n",
       "  'IsPermittedToLogon': True,\n",
       "  'LogonName': 'isabellar@wideworldimporters.com',\n",
       "  'IsExternalLogonProvider': False,\n",
       "  'HashedPassword': '0xB45E7C4E37C32FA9A5A3161B9DB1C9C1E787BB7DB424E7FD7A20895D4BFB5D31',\n",
       "  'IsSystemUser': True,\n",
       "  'IsEmployee': True,\n",
       "  'IsSalesperson': False,\n",
       "  'UserPreferences': '{\"theme\":\"ui-darkness\",\"dateFormat\":\"dd/mm/yy\",\"timeZone\": \"PST\",\"table\":{\"pagingType\":\"simple\",\"pageLength\": 10},\"favoritesOnDashboard\":true}',\n",
       "  'PhoneNumber': '(415) 555-0102',\n",
       "  'FaxNumber': '(415) 555-0103',\n",
       "  'EmailAddress': 'isabellar@wideworldimporters.com',\n",
       "  'Photo': nan,\n",
       "  'CustomFields': {'OtherLanguages': ['Turkish', 'Slovenian'],\n",
       "   'HireDate': '2010-08-24T00:00:00',\n",
       "   'Title': 'Team Member'},\n",
       "  'OtherLanguages': ['Turkish', 'Slovenian'],\n",
       "  'LastEditedBy': 1,\n",
       "  'ValidFrom': datetime.datetime(2016, 5, 31, 23, 14),\n",
       "  'ValidTo': datetime.datetime(9999, 12, 31, 23, 59, 59)}]"
      ]
     },
     "execution_count": 35,
     "metadata": {},
     "output_type": "execute_result"
    }
   ],
   "source": [
    "# Using exploration to query the correct field:\n",
    "list(db.people.find({ 'CustomFields.Title': {'$eq':'Team Member'} }).limit(3))"
   ]
  },
  {
   "cell_type": "code",
   "execution_count": 36,
   "metadata": {},
   "outputs": [
    {
     "data": {
      "text/plain": [
       "{'OtherLanguages': ['Polish', 'Chinese', 'Japanese'],\n",
       " 'HireDate': '2008-04-19T00:00:00',\n",
       " 'Title': 'Team Member',\n",
       " 'PrimarySalesTerritory': 'Plains',\n",
       " 'CommissionRate': '0.98'}"
      ]
     },
     "execution_count": 36,
     "metadata": {},
     "output_type": "execute_result"
    }
   ],
   "source": [
    "list(db.people.find().limit(3))[1]['CustomFields']"
   ]
  },
  {
   "cell_type": "code",
   "execution_count": 37,
   "metadata": {},
   "outputs": [
    {
     "name": "stdout",
     "output_type": "stream",
     "text": [
      "There are 13 people with the title Team Member.\n"
     ]
    }
   ],
   "source": [
    "# Counting results:\n",
    "teamMembers = db.people.count_documents({ 'CustomFields.Title': {'$eq':'Team Member'} })\n",
    "\n",
    "print(f\"There are {teamMembers} people with the title Team Member.\")"
   ]
  },
  {
   "cell_type": "markdown",
   "metadata": {},
   "source": [
    "__4. How many people have in their name the string `Sara`?__"
   ]
  },
  {
   "cell_type": "code",
   "execution_count": 38,
   "metadata": {
    "scrolled": true
   },
   "outputs": [
    {
     "data": {
      "text/plain": [
       "[{'_id': ObjectId('6091cbcf45ad05f8e5c847e0'), 'FullName': 'Sara Karlsson'},\n",
       " {'_id': ObjectId('6091cbcf45ad05f8e5c8495f'), 'FullName': 'Sara Charlton'},\n",
       " {'_id': ObjectId('6091cbcf45ad05f8e5c84ace'),\n",
       "  'FullName': 'Saraswati Beniwal'},\n",
       " {'_id': ObjectId('6091cbcf45ad05f8e5c84b73'), 'FullName': 'Sara Huiting'},\n",
       " {'_id': ObjectId('6091cbcf45ad05f8e5c84bb0'), 'FullName': 'Sara Walkky'}]"
      ]
     },
     "execution_count": 38,
     "metadata": {},
     "output_type": "execute_result"
    }
   ],
   "source": [
    "# Using exploration to query the correct field:\n",
    "searchStr = re.compile(r'Sara')\n",
    "\n",
    "list(db.people.find({\"FullName\": {'$regex': searchStr}},{\"FullName\"}).limit(5))"
   ]
  },
  {
   "cell_type": "markdown",
   "metadata": {},
   "source": [
    "We see that the results returned above include the substring `Sara` with the letter S capped and is including a substring next to it. For example, Saraswati."
   ]
  },
  {
   "cell_type": "code",
   "execution_count": 39,
   "metadata": {},
   "outputs": [
    {
     "name": "stdout",
     "output_type": "stream",
     "text": [
      "There are 5 people have in their name the string Sara.\n"
     ]
    }
   ],
   "source": [
    "# Counting results:\n",
    "SaraCount = db.people.count_documents( { \"FullName\": {'$regex': searchStr}} )\n",
    "\n",
    "print(f\"There are {SaraCount} people have in their name the string Sara.\")"
   ]
  },
  {
   "cell_type": "markdown",
   "metadata": {},
   "source": [
    "__5. Return 5 full names that have in their name the string `Sara`?__"
   ]
  },
  {
   "cell_type": "code",
   "execution_count": 40,
   "metadata": {},
   "outputs": [
    {
     "data": {
      "text/plain": [
       "[{'FullName': 'Sara Karlsson'},\n",
       " {'FullName': 'Sara Charlton'},\n",
       " {'FullName': 'Saraswati Beniwal'},\n",
       " {'FullName': 'Sara Huiting'},\n",
       " {'FullName': 'Sara Walkky'}]"
      ]
     },
     "execution_count": 40,
     "metadata": {},
     "output_type": "execute_result"
    }
   ],
   "source": [
    "SaraNames = list(db.people.find({\"FullName\": {'$regex': searchStr}}, {\"FullName\":1, \"_id\":0}).limit(5))\n",
    "\n",
    "SaraNames"
   ]
  },
  {
   "cell_type": "code",
   "execution_count": 41,
   "metadata": {},
   "outputs": [
    {
     "name": "stdout",
     "output_type": "stream",
     "text": [
      "We have the following people with their fullnames having the string Sara:\n",
      "\n",
      "     * Sara Karlsson\n",
      "     * Sara Charlton\n",
      "     * Saraswati Beniwal\n",
      "     * Sara Huiting\n",
      "     * Sara Walkky\n"
     ]
    }
   ],
   "source": [
    "print('We have the following people with their fullnames having the string Sara:\\n')\n",
    "\n",
    "for name in SaraNames:\n",
    "    print('     *', name['FullName'])"
   ]
  },
  {
   "cell_type": "markdown",
   "metadata": {},
   "source": [
    "__6. What is the highest `CommissionRate` that a person has?__"
   ]
  },
  {
   "cell_type": "code",
   "execution_count": 42,
   "metadata": {},
   "outputs": [
    {
     "data": {
      "text/plain": [
       "[{'_id': ObjectId('6091cbcf45ad05f8e5c847be'),\n",
       "  'PersonID': 6,\n",
       "  'FullName': 'Sophia Hinton',\n",
       "  'PreferredName': 'Sophia',\n",
       "  'SearchName': 'Sophia Sophia Hinton',\n",
       "  'IsPermittedToLogon': True,\n",
       "  'LogonName': 'sophiah@wideworldimporters.com',\n",
       "  'IsExternalLogonProvider': False,\n",
       "  'HashedPassword': '0x451BB10A515F06331540DB392031F9D9BC4EF536A1F86D1CA6C7394556BAA3C0',\n",
       "  'IsSystemUser': True,\n",
       "  'IsEmployee': True,\n",
       "  'IsSalesperson': True,\n",
       "  'UserPreferences': '{\"theme\":\"black-tie\",\"dateFormat\":\"mm/dd/yy\",\"timeZone\": \"PST\",\"table\":{\"pagingType\":\"full_numbers\",\"pageLength\": 25},\"favoritesOnDashboard\":true}',\n",
       "  'PhoneNumber': '(415) 555-0102',\n",
       "  'FaxNumber': '(415) 555-0103',\n",
       "  'EmailAddress': 'sophiah@wideworldimporters.com',\n",
       "  'Photo': nan,\n",
       "  'CustomFields': {'OtherLanguages': ['Swedish'],\n",
       "   'HireDate': '2007-05-14T00:00:00',\n",
       "   'Title': 'Team Member',\n",
       "   'PrimarySalesTerritory': 'Southeast',\n",
       "   'CommissionRate': '4.55'},\n",
       "  'OtherLanguages': ['Swedish'],\n",
       "  'LastEditedBy': 1,\n",
       "  'ValidFrom': datetime.datetime(2016, 5, 31, 23, 14),\n",
       "  'ValidTo': datetime.datetime(9999, 12, 31, 23, 59, 59)}]"
      ]
     },
     "execution_count": 42,
     "metadata": {},
     "output_type": "execute_result"
    }
   ],
   "source": [
    "comission = list(db.people.find().sort(\"CustomFields.CommissionRate\", -1).limit(1))\n",
    "comission"
   ]
  },
  {
   "cell_type": "code",
   "execution_count": 43,
   "metadata": {},
   "outputs": [
    {
     "name": "stdout",
     "output_type": "stream",
     "text": [
      "The person responsible for the highest comission rate is Sophia Hinton with 4.55\n"
     ]
    }
   ],
   "source": [
    "print(f\"The person responsible for the highest comission rate is {comission[0]['FullName']} with {comission[0]['CustomFields']['CommissionRate']}\")\n"
   ]
  },
  {
   "cell_type": "markdown",
   "metadata": {},
   "source": [
    "__7. And what are the top 10 most Common Names (Primary or Surnames)?__"
   ]
  },
  {
   "cell_type": "code",
   "execution_count": 198,
   "metadata": {},
   "outputs": [
    {
     "name": "stdout",
     "output_type": "stream",
     "text": [
      "The top 10 most common names are: Bose, Ganguly, Thakur, Roman, Van, David, Dhanishta, PrabhupÄda, Mukherjee, Bhowmick\n"
     ]
    }
   ],
   "source": [
    "query_1 = {\n",
    "    '$project': {\n",
    "        '_id' : False,\n",
    "        'name': {'$split': ['$FullName', ' ' ] }\n",
    "    }\n",
    "}\n",
    "\n",
    "query_2 = { \n",
    "    '$unwind': \"$name\" } \n",
    "\n",
    "query_3 = {\n",
    "    '$sortByCount': \"$name\",\n",
    "}\n",
    "\n",
    "query_4 = {\n",
    "    '$match': {'_id':{'$ne': ''}}\n",
    "}\n",
    "\n",
    "query_5 = {\n",
    "    '$match': {'_id':{'$ne': 'De'}}\n",
    "}\n",
    "\n",
    "query_6 = {\n",
    "    '$limit': 10\n",
    "}\n",
    "\n",
    "query_7 = {\n",
    "    '$project': {\n",
    "        '_id':True\n",
    "    }\n",
    "}\n",
    "\n",
    "pipeline = [query_1, query_2, query_3, query_4, query_5, query_6, query_7]\n",
    "\n",
    "r = db.people.aggregate(pipeline)\n",
    "result = list(r)\n",
    "\n",
    "result = result[:]\n",
    "\n",
    "names = []\n",
    "for r in range(len(result)): \n",
    "    names.append(result[r][\"_id\"])\n",
    "\n",
    "final_names = ', '.join(names)\n",
    "print(f\"The top 10 most common names are: {final_names}\") "
   ]
  },
  {
   "cell_type": "markdown",
   "metadata": {},
   "source": [
    "__8. How many orders has the Customer `Tailspin Toys (Head Office)`?__"
   ]
  },
  {
   "cell_type": "code",
   "execution_count": 65,
   "metadata": {},
   "outputs": [
    {
     "data": {
      "text/plain": [
       "1"
      ]
     },
     "execution_count": 65,
     "metadata": {},
     "output_type": "execute_result"
    }
   ],
   "source": [
    "customerID = list(db.customers.find({\"CustomerName\": {'$eq': 'Tailspin Toys (Head Office)'}}))[0]['CustomerID']\n",
    "customerID"
   ]
  },
  {
   "cell_type": "code",
   "execution_count": 66,
   "metadata": {},
   "outputs": [
    {
     "name": "stdout",
     "output_type": "stream",
     "text": [
      "There are 129 orders regarding customer Tailspin Toys (Head Office)\n"
     ]
    }
   ],
   "source": [
    "TailspinCustomer = (db.orders.count_documents({\"CustomerID\": {'$eq': 1}}))\n",
    "\n",
    "print(f\"There are {TailspinCustomer} orders regarding customer Tailspin Toys (Head Office)\")"
   ]
  },
  {
   "cell_type": "markdown",
   "metadata": {},
   "source": [
    "__9. How many people that have more or equal than three `OtherLanguage`?__"
   ]
  },
  {
   "cell_type": "code",
   "execution_count": 67,
   "metadata": {},
   "outputs": [
    {
     "name": "stdout",
     "output_type": "stream",
     "text": [
      "There are 4 people that have more or equal than three OtherLanguage\n"
     ]
    }
   ],
   "source": [
    "query_1 = {\n",
    "    '$project':{\n",
    "        '_id': False,\n",
    "        'number_of_languages': { '$cond': { 'if': { '$isArray': \"$OtherLanguages\" }, 'then': { '$size': \"$OtherLanguages\" }, 'else': \"NA\"} \n",
    "        }\n",
    "    }\n",
    "}\n",
    "\n",
    "query_2 = {\n",
    "    '$match': {\n",
    "        'number_of_languages':{'$gte':3}\n",
    "    }\n",
    "}\n",
    " \n",
    "\n",
    "query_3 = {\n",
    "    '$count': 'Number'   \n",
    "}\n",
    " \n",
    "    \n",
    "pipeline = [query_1, query_2, query_3]\n",
    "\n",
    "r = db.people.aggregate(pipeline)\n",
    "\n",
    "result = list(r)\n",
    "\n",
    "print(f\"There are {result[0]['Number']} people that have more or equal than three OtherLanguage\")"
   ]
  },
  {
   "cell_type": "markdown",
   "metadata": {},
   "source": [
    "__10. Top 10 most common `OtherLanguage` for people records__"
   ]
  },
  {
   "cell_type": "code",
   "execution_count": 201,
   "metadata": {
    "scrolled": true
   },
   "outputs": [
    {
     "name": "stdout",
     "output_type": "stream",
     "text": [
      "The top 10 most common OtherLanguage for people records are: Finnish, Dutch, Greek, Lithuanian, Arabic, Slovak, Romanian, Croatian, Polish, Swedish\n"
     ]
    }
   ],
   "source": [
    "query_1 = {\n",
    "    '$project': {\n",
    "        '_id' : False,\n",
    "        'other_languages': '$OtherLanguages'\n",
    "    }\n",
    "}\n",
    "\n",
    "query_2 = { \n",
    "    '$unwind': \"$other_languages\" } \n",
    "\n",
    "query_3 = {\n",
    "    '$sortByCount': \"$other_languages\",\n",
    "}\n",
    "\n",
    "query_4 = {\n",
    "    '$limit': 10\n",
    "}\n",
    "\n",
    "query_5 = {\n",
    "    '$project': {\n",
    "        '_id':True,\n",
    "    }\n",
    "}\n",
    "\n",
    "pipeline = [query_1, query_2, query_3, query_4,query_5]\n",
    "\n",
    "r = db.people.aggregate(pipeline)\n",
    "result = list(r)\n",
    "\n",
    "languages = []\n",
    "for r in range(len(result)): \n",
    "    languages.append(result[r][\"_id\"])\n",
    "\n",
    "final_languages = ', '.join(languages)\n",
    "print(f\"The top 10 most common OtherLanguage for people records are: {final_languages}\") "
   ]
  },
  {
   "cell_type": "markdown",
   "metadata": {},
   "source": [
    "__11. Who is the most common `PickedByPersonID` person name for orders done by customer `Adriana Pena`?__"
   ]
  },
  {
   "cell_type": "code",
   "execution_count": 207,
   "metadata": {},
   "outputs": [
    {
     "name": "stdout",
     "output_type": "stream",
     "text": [
      "The most common PickedByPersonID person names for orders done by Adriana Pena are: Piper Koch, Anthony Grosse, Katie Darwin\n"
     ]
    }
   ],
   "source": [
    "query_1 = {\n",
    "    \"$match\": {\"CustomerName\": {\"$eq\": \"Adriana Pena\"}}\n",
    "}\n",
    "\n",
    "query_2 ={\n",
    "    '$project':{\n",
    "        '_id' : False,\n",
    "        'CustomerName': True,\n",
    "        'CustomerID': True\n",
    "    }\n",
    "}\n",
    "\n",
    "query_3 = {\n",
    "   '$lookup':\n",
    "     {\n",
    "      'from': \"orders\",\n",
    "      'localField': \"CustomerID\",\n",
    "      'foreignField': \"CustomerID\",\n",
    "      'as': \"inventory_docs\"   \n",
    "     }\n",
    "}\n",
    "\n",
    "query_4 = {\n",
    "    '$unwind': \"$inventory_docs\"\n",
    "}\n",
    "\n",
    "\n",
    "query_5 = {\n",
    "    '$sortByCount': \"$inventory_docs.PickedByPersonID\",\n",
    "}\n",
    "\n",
    "query_6 = {\n",
    "   '$lookup':\n",
    "     {\n",
    "      'from': \"people\",\n",
    "      'localField': \"_id\",\n",
    "      'foreignField': \"PersonID\",\n",
    "      'as': \"people_inventory\"   \n",
    "     }\n",
    "}\n",
    "\n",
    "query_7 ={\n",
    "    '$match':{\n",
    "        '_id' : {'$gte':0}\n",
    "    }\n",
    "}\n",
    "\n",
    "query_8 ={\n",
    "    '$project':{\n",
    "        '_id' : False,\n",
    "        'count': True,\n",
    "        'Name': '$people_inventory.FullName',\n",
    "    }\n",
    "}\n",
    "\n",
    "query_9 = {\n",
    "     '$limit': 3\n",
    "}\n",
    "\n",
    "query_10 = {\n",
    "    '$project':{\n",
    "        '_id' : False,\n",
    "        'Name': True\n",
    "    }\n",
    "}\n",
    "\n",
    "pipeline = [query_1, query_2, query_3, query_4, query_5, query_6, query_7, query_8, query_9, query_10]\n",
    "\n",
    "r = db.customers.aggregate(pipeline)\n",
    "\n",
    "result = list(r)\n",
    "\n",
    "names = []\n",
    "for r in range(len(result)): \n",
    "    names = names + (result[r][\"Name\"])\n",
    "\n",
    "final_names = ', '.join(names)\n",
    "\n",
    "print(f\"The most common PickedByPersonID person names for orders done by Adriana Pena are: {final_names}\") "
   ]
  },
  {
   "cell_type": "markdown",
   "metadata": {},
   "source": [
    "__12. What is the average difference in days between OrderDate and ExpectedDeliveryDate for orders sold by (`SalespersonPersonID`) person with name `Jack Potter`?__"
   ]
  },
  {
   "cell_type": "code",
   "execution_count": 202,
   "metadata": {},
   "outputs": [
    {
     "name": "stdout",
     "output_type": "stream",
     "text": [
      "The average difference in days between OrderDate and ExpectedDeliveryDate for orders sold by Jack Potter is: 1.4490320833897388\n"
     ]
    }
   ],
   "source": [
    "query_1 = {\n",
    "    \"$match\": {\"FullName\": {\"$eq\": \"Jack Potter\"}}\n",
    "}\n",
    "\n",
    "query_2 ={\n",
    "    '$project':{\n",
    "        '_id' : False,\n",
    "        'FullName': True,\n",
    "        'PersonID': True\n",
    "    }\n",
    "}\n",
    "\n",
    "query_3 = {\n",
    "   '$lookup':\n",
    "     {\n",
    "      'from': \"orders\",\n",
    "      'localField': \"PersonID\",\n",
    "      'foreignField': \"SalespersonPersonID\",\n",
    "      'as': \"SalesPerson_docs\"   \n",
    "     }\n",
    "}\n",
    "\n",
    "query_4 = {\n",
    "    '$unwind': \"$SalesPerson_docs\"\n",
    "}\n",
    "\n",
    "query_5 ={\n",
    "    '$project':{\n",
    "        'FullName' : True,\n",
    "        'PersonID': True,\n",
    "        'dateDifference': {'$divide': [{ '$subtract': [\"$SalesPerson_docs.ExpectedDeliveryDate\", \"$SalesPerson_docs.OrderDate\"] }, \n",
    "                                        1000 * 60 * 60 * 24] } ,\n",
    "    }\n",
    "}\n",
    "\n",
    "query_6 = {\n",
    "    '$group': {\n",
    "        '_id': {'Name' : '$FullName'}, \n",
    "        'average_days' : {'$avg' : '$dateDifference'}            \n",
    "    }\n",
    "}\n",
    "\n",
    "pipeline = [query_1, query_2, query_3, query_4, query_5, query_6]\n",
    "\n",
    "r = db.people.aggregate(pipeline)\n",
    "\n",
    "result = list(r)\n",
    "\n",
    "print(f\"The average difference in days between OrderDate and ExpectedDeliveryDate for orders sold by Jack Potter is: {result[0]['average_days']}\")\n"
   ]
  },
  {
   "cell_type": "code",
   "execution_count": null,
   "metadata": {},
   "outputs": [],
   "source": []
  }
 ],
 "metadata": {
  "kernelspec": {
   "display_name": "Python 3",
   "language": "python",
   "name": "python3"
  },
  "language_info": {
   "codemirror_mode": {
    "name": "ipython",
    "version": 3
   },
   "file_extension": ".py",
   "mimetype": "text/x-python",
   "name": "python",
   "nbconvert_exporter": "python",
   "pygments_lexer": "ipython3",
   "version": "3.8.5"
  }
 },
 "nbformat": 4,
 "nbformat_minor": 4
}
