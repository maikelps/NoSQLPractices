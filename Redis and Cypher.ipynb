{
 "cells": [
  {
   "cell_type": "code",
   "execution_count": 1,
   "metadata": {},
   "outputs": [],
   "source": [
    "import pandas as pd\n",
    "import numpy as np\n",
    "import redis\n",
    "import py2neo\n",
    "from pprint import pprint"
   ]
  },
  {
   "cell_type": "code",
   "execution_count": 2,
   "metadata": {},
   "outputs": [
    {
     "name": "stdout",
     "output_type": "stream",
     "text": [
      "Server version 6.2.2\n"
     ]
    }
   ],
   "source": [
    "# Connectiong to the Redis DB:\n",
    "r = redis.Redis(\n",
    "    host='rhea.isegi.unl.pt',                            # Url where the database is hosted\n",
    "    port='6404',                                         # Server port in which redis is running\n",
    "    password='249774l78m84D1507a9GY9410sy08U83', # Password to authenticate on the server\n",
    "    decode_responses=True\n",
    ")\n",
    "\n",
    "server_info = r.info()\n",
    "\n",
    "print(\"Server version \"+ server_info[\"redis_version\"])"
   ]
  },
  {
   "cell_type": "code",
   "execution_count": 3,
   "metadata": {},
   "outputs": [
    {
     "data": {
      "text/plain": [
       "[{'count(*)': 9647598}]"
      ]
     },
     "execution_count": 3,
     "metadata": {},
     "output_type": "execute_result"
    }
   ],
   "source": [
    "# Connecting to the neo4j DB\n",
    "username=\"neo4j\"\n",
    "password=\"F3cfcrnvBev57KZ8mcMk78L9wHgJVZuJ\"\n",
    "host=\"rhea.isegi.unl.pt\"\n",
    "port=\"7474\"\n",
    "\n",
    "secure_graph = py2neo.Graph(f\"http://{username}:{password}@{host}:{port}\")\n",
    "secure_graph.run(\"MATCH () RETURN count(*)\").data()"
   ]
  },
  {
   "cell_type": "markdown",
   "metadata": {},
   "source": [
    "Authors: \n",
    "\n",
    "* Maikel Sousa (m20200735)\n",
    "* Catarina Moreira (20201034)\n",
    "* Luisa Barral (m20201045)\n",
    "* Xavier Goncalves (m20201090)\n",
    "\n",
    "\n",
    "# Answering the questions:\n",
    "\n",
    "#### 0) How many beers does the database contain?"
   ]
  },
  {
   "cell_type": "code",
   "execution_count": 18,
   "metadata": {},
   "outputs": [
    {
     "name": "stdout",
     "output_type": "stream",
     "text": [
      "We have 358873 Beers in the Neo4j Database\n"
     ]
    }
   ],
   "source": [
    "result = secure_graph.run(\"\"\"\n",
    "        MATCH \n",
    "            (n:Beers)\n",
    "        RETURN \n",
    "            count(distinct n) AS Distinct\n",
    "\"\"\").data()\n",
    "\n",
    "print(f\"We have {result[0]['Distinct']} Beers in the Neo4j Database\")"
   ]
  },
  {
   "cell_type": "code",
   "execution_count": 19,
   "metadata": {},
   "outputs": [
    {
     "data": {
      "text/plain": [
       "True"
      ]
     },
     "execution_count": 19,
     "metadata": {},
     "output_type": "execute_result"
    }
   ],
   "source": [
    "# Uploading the result to the redis database:\n",
    "r.set(\"0\", result[0]['Distinct'])"
   ]
  },
  {
   "cell_type": "markdown",
   "metadata": {},
   "source": [
    "#### 1) How many different countries exist in the database?"
   ]
  },
  {
   "cell_type": "code",
   "execution_count": 24,
   "metadata": {},
   "outputs": [
    {
     "name": "stdout",
     "output_type": "stream",
     "text": [
      "We have 200 Countries in the Neo4j Database\n"
     ]
    }
   ],
   "source": [
    "result = secure_graph.run(\"\"\"\n",
    "        MATCH \n",
    "            (n:Country)\n",
    "        RETURN \n",
    "            count(distinct n) AS Distinct\n",
    "\"\"\").data()\n",
    "\n",
    "print(f\"We have {result[0]['Distinct']} Countries in the Neo4j Database\")"
   ]
  },
  {
   "cell_type": "code",
   "execution_count": 25,
   "metadata": {},
   "outputs": [
    {
     "data": {
      "text/plain": [
       "True"
      ]
     },
     "execution_count": 25,
     "metadata": {},
     "output_type": "execute_result"
    }
   ],
   "source": [
    "# Uploading the result to the redis database:\n",
    "r.set(\"1\", result[0]['Distinct'])"
   ]
  },
  {
   "cell_type": "markdown",
   "metadata": {},
   "source": [
    "### 2) Most Reviews:\n",
    "\n",
    "#### 2A) Which Beer has the most reviews?"
   ]
  },
  {
   "cell_type": "code",
   "execution_count": 26,
   "metadata": {},
   "outputs": [
    {
     "name": "stdout",
     "output_type": "stream",
     "text": [
      "The beer with most reviews is IPA with 31387 reviews\n"
     ]
    }
   ],
   "source": [
    "result = secure_graph.run(\"\"\"\n",
    "        MATCH \n",
    "            (n:Beers)-[a:ABOUT]-(r:Reviews)\n",
    "        WITH \n",
    "            n['name'] AS BeerName, \n",
    "            count(r) AS NumberReviews\n",
    "        ORDER BY \n",
    "            NumberReviews DESC\n",
    "        RETURN \n",
    "            BeerName,\n",
    "            NumberReviews\n",
    "        LIMIT 4\n",
    "\"\"\").data()\n",
    "\n",
    "print(f\"The beer with most reviews is {result[0]['BeerName']} with {result[0]['NumberReviews']} reviews\")"
   ]
  },
  {
   "cell_type": "code",
   "execution_count": 27,
   "metadata": {},
   "outputs": [
    {
     "data": {
      "text/plain": [
       "True"
      ]
     },
     "execution_count": 27,
     "metadata": {},
     "output_type": "execute_result"
    }
   ],
   "source": [
    "# Uploading the result to the redis database:\n",
    "r.set(\"2A\", result[0]['BeerName'])"
   ]
  },
  {
   "cell_type": "markdown",
   "metadata": {},
   "source": [
    "#### 2.2) Which Brewery has the most reviews for its beers?"
   ]
  },
  {
   "cell_type": "code",
   "execution_count": 28,
   "metadata": {},
   "outputs": [
    {
     "name": "stdout",
     "output_type": "stream",
     "text": [
      "The Brewery with most reviews is Sierra Nevada Brewing Co. with 175161 reviews\n"
     ]
    }
   ],
   "source": [
    "result = secure_graph.run(\"\"\"\n",
    "        MATCH \n",
    "            (brew:Breweries)-[ba:BREWED_AT]-(b:Beers)-[a:ABOUT]-(r:Reviews)\n",
    "        WITH\n",
    "            brew['name'] AS Brewery,\n",
    "            count(r) AS NumberReviews\n",
    "        ORDER BY\n",
    "            NumberReviews DESC\n",
    "        RETURN \n",
    "            Brewery,\n",
    "            NumberReviews\n",
    "        LIMIT 4\n",
    "\"\"\").data()\n",
    "\n",
    "print(f\"The Brewery with most reviews is {result[0]['Brewery']} with {result[0]['NumberReviews']} reviews\")"
   ]
  },
  {
   "cell_type": "code",
   "execution_count": 29,
   "metadata": {},
   "outputs": [
    {
     "data": {
      "text/plain": [
       "True"
      ]
     },
     "execution_count": 29,
     "metadata": {},
     "output_type": "execute_result"
    }
   ],
   "source": [
    "# Uploading the result to the redis database:\n",
    "r.set(\"2B\", result[0]['Brewery'])"
   ]
  },
  {
   "cell_type": "markdown",
   "metadata": {},
   "source": [
    "#### 2.3) Which Country has the most reviews for its beers?"
   ]
  },
  {
   "cell_type": "code",
   "execution_count": 30,
   "metadata": {},
   "outputs": [
    {
     "name": "stdout",
     "output_type": "stream",
     "text": [
      "The Country with most reviews is US with 7524410 reviews\n"
     ]
    }
   ],
   "source": [
    "result = secure_graph.run(\"\"\"\n",
    "        MATCH \n",
    "            (c:Country)<-[f:FROM]-(brew:Breweries)-[ba:BREWED_AT]-(b:Beers)-[a:ABOUT]-(r:Reviews)\n",
    "        WITH\n",
    "            c['country_digit'] AS CountryCode,\n",
    "            count(r) AS NumberReviews\n",
    "        ORDER BY\n",
    "            NumberReviews DESC\n",
    "        RETURN \n",
    "            CountryCode,\n",
    "            NumberReviews\n",
    "        LIMIT 4\n",
    "\"\"\").data()\n",
    "\n",
    "#pprint(result)\n",
    "print(f\"The Country with most reviews is {result[0]['CountryCode']} with {result[0]['NumberReviews']} reviews\")"
   ]
  },
  {
   "cell_type": "code",
   "execution_count": 31,
   "metadata": {},
   "outputs": [
    {
     "data": {
      "text/plain": [
       "True"
      ]
     },
     "execution_count": 31,
     "metadata": {},
     "output_type": "execute_result"
    }
   ],
   "source": [
    "# Uploading the result to the redis database:\n",
    "r.set(\"2C\", result[0]['CountryCode'])"
   ]
  },
  {
   "cell_type": "markdown",
   "metadata": {},
   "source": [
    "#### 3) Find the user/users that have the most shared reviews (reviews of the same beers) with the user CTJman?"
   ]
  },
  {
   "cell_type": "code",
   "execution_count": 32,
   "metadata": {},
   "outputs": [
    {
     "name": "stdout",
     "output_type": "stream",
     "text": [
      "[{'N_Reviews': 2241, 'User': 'CTJman'},\n",
      " {'N_Reviews': 1789, 'User': 'acurtis'},\n",
      " {'N_Reviews': 1662, 'User': 'Texasfan549'},\n",
      " {'N_Reviews': 1532, 'User': 'kjkinsey'},\n",
      " {'N_Reviews': 1412, 'User': 'djrn2'},\n",
      " {'N_Reviews': 1394, 'User': 'spycow'},\n",
      " {'N_Reviews': 1377, 'User': 'oline73'},\n",
      " {'N_Reviews': 1368, 'User': 'jaydoc'},\n",
      " {'N_Reviews': 1339, 'User': 'Knapp85'},\n",
      " {'N_Reviews': 1327, 'User': 'kylehay2004'}]\n"
     ]
    }
   ],
   "source": [
    "# Checking the query:\n",
    "result = secure_graph.run(\"\"\"\n",
    "        MATCH \n",
    "            (b0:Beers)-[:ABOUT]-(r0:Reviews)-[:MADE]-(u0:Username)\n",
    "        MATCH \n",
    "            (b:Beers)-[:ABOUT]-(r:Reviews)-[:MADE]-(u:Username{user_name:\"CTJman\"})\n",
    "        \n",
    "        WHERE\n",
    "            b0['name'] = b['name']\n",
    "        \n",
    "        WITH\n",
    "            u0['user_name'] AS User,\n",
    "            count(r0) as N_Reviews\n",
    "            \n",
    "        ORDER BY\n",
    "            N_Reviews DESC\n",
    "        \n",
    "        RETURN\n",
    "            User,\n",
    "            N_Reviews\n",
    "            \n",
    "        LIMIT 10\n",
    "        \n",
    "\"\"\").data()\n",
    "\n",
    "pprint(result)"
   ]
  },
  {
   "cell_type": "code",
   "execution_count": 33,
   "metadata": {},
   "outputs": [
    {
     "name": "stdout",
     "output_type": "stream",
     "text": [
      "The user with the most shared reviews with CTJman is: CTJman\n"
     ]
    }
   ],
   "source": [
    "print(f\"The user with the most shared reviews with CTJman is: {result[0]['User']}\")"
   ]
  },
  {
   "cell_type": "code",
   "execution_count": 34,
   "metadata": {
    "scrolled": true
   },
   "outputs": [
    {
     "data": {
      "text/plain": [
       "True"
      ]
     },
     "execution_count": 34,
     "metadata": {},
     "output_type": "execute_result"
    }
   ],
   "source": [
    "# Uploading the result to the redis database:\n",
    "r.set(\"3\", result[0]['User'])"
   ]
  },
  {
   "cell_type": "markdown",
   "metadata": {},
   "source": [
    "#### 4) Which portuguese brewery has the most beers?"
   ]
  },
  {
   "cell_type": "code",
   "execution_count": 35,
   "metadata": {},
   "outputs": [
    {
     "name": "stdout",
     "output_type": "stream",
     "text": [
      "The Portuguese Brewery with most beers is: 'Dois Corvos Cervejeira' \n"
     ]
    }
   ],
   "source": [
    "result = secure_graph.run(\"\"\"\n",
    "        MATCH \n",
    "            (c:Country{country_digit:'PT'})<-[f:FROM]-(brew:Breweries)-[ba:BREWED_AT]-(b:Beers)\n",
    "        WITH \n",
    "            brew['name'] AS Brewery,\n",
    "            count(b) AS N_Beers\n",
    "        ORDER BY\n",
    "            N_Beers DESC\n",
    "        RETURN\n",
    "            Brewery\n",
    "        LIMIT 4\n",
    "\"\"\").data()\n",
    "\n",
    "print(f\"The Portuguese Brewery with most beers is: \\'{ result[0]['Brewery'] }\\' \")\n",
    "#pprint(result)"
   ]
  },
  {
   "cell_type": "code",
   "execution_count": 36,
   "metadata": {},
   "outputs": [
    {
     "data": {
      "text/plain": [
       "True"
      ]
     },
     "execution_count": 36,
     "metadata": {},
     "output_type": "execute_result"
    }
   ],
   "source": [
    "# Uploading the result to the redis database:\n",
    "r.set(\"4\", result[0]['Brewery'])"
   ]
  },
  {
   "cell_type": "markdown",
   "metadata": {},
   "source": [
    "#### 5) From those beers (the ones returned from the previous question), which has the most reviews?"
   ]
  },
  {
   "cell_type": "code",
   "execution_count": 37,
   "metadata": {},
   "outputs": [
    {
     "name": "stdout",
     "output_type": "stream",
     "text": [
      "The Portuguese Brewery Dois Corvos Cervejeira's beer with more reviews is: 'Finisterra' \n"
     ]
    }
   ],
   "source": [
    "result = secure_graph.run(\"\"\"\n",
    "        MATCH \n",
    "            (c:Country{country_digit:'PT'})<-[f:FROM]-(brew:Breweries{name:'Dois Corvos Cervejeira'})-[ba:BREWED_AT]-(b:Beers)-[a:ABOUT]-(r:Reviews)\n",
    "        WITH \n",
    "            b['name'] AS Beer,\n",
    "            count(r) AS N_Reviews\n",
    "        ORDER BY\n",
    "            N_Reviews DESC\n",
    "        RETURN\n",
    "            Beer,\n",
    "            N_Reviews\n",
    "        LIMIT 4\n",
    "\"\"\").data()\n",
    "\n",
    "print(f\"The Portuguese Brewery Dois Corvos Cervejeira\\'s beer with more reviews is: \\'{ result[0]['Beer'] }\\' \")\n",
    "#pprint(result)"
   ]
  },
  {
   "cell_type": "code",
   "execution_count": 38,
   "metadata": {},
   "outputs": [
    {
     "data": {
      "text/plain": [
       "True"
      ]
     },
     "execution_count": 38,
     "metadata": {},
     "output_type": "execute_result"
    }
   ],
   "source": [
    "# Uploading the result to the redis database:\n",
    "r.set(\"5\", result[0]['Beer'])"
   ]
  },
  {
   "cell_type": "markdown",
   "metadata": {},
   "source": [
    "Just out of curiosity, we queried what is the most reviewed beer in Portugal:"
   ]
  },
  {
   "cell_type": "code",
   "execution_count": 39,
   "metadata": {},
   "outputs": [
    {
     "name": "stdout",
     "output_type": "stream",
     "text": [
      "The Portuguese Brewery with most reviews is: 'Super Bock' \n"
     ]
    }
   ],
   "source": [
    "result = secure_graph.run(\"\"\"\n",
    "        MATCH \n",
    "            (c:Country{country_digit:'PT'})<-[f:FROM]-(brew:Breweries)-[ba:BREWED_AT]-(b:Beers)-[a:ABOUT]-(r:Reviews)\n",
    "        WITH \n",
    "            b['name'] AS Beer,\n",
    "            count(r) AS N_Reviews\n",
    "        ORDER BY\n",
    "            N_Reviews DESC\n",
    "        RETURN\n",
    "            Beer,\n",
    "            N_Reviews\n",
    "        LIMIT 4\n",
    "\"\"\").data()\n",
    "\n",
    "print(f\"The Portuguese Brewery with most reviews is: \\'{ result[0]['Beer'] }\\' \")\n",
    "#pprint(result)"
   ]
  },
  {
   "cell_type": "markdown",
   "metadata": {},
   "source": [
    "#### 6) On average how many different beer styles does each brewery produce?"
   ]
  },
  {
   "cell_type": "code",
   "execution_count": 40,
   "metadata": {},
   "outputs": [
    {
     "name": "stdout",
     "output_type": "stream",
     "text": [
      "[{'Brewery': 'Mallaskuun Panimo', 'N_Styles': 1},\n",
      " {'Brewery': 'The Cellar Grill', 'N_Styles': 1},\n",
      " {'Brewery': 'Microbrasserie Senses Brewing', 'N_Styles': 1},\n",
      " {'Brewery': 'Vechtdal Brouwerij', 'N_Styles': 1},\n",
      " {'Brewery': 'Real Cervejeira Caldense', 'N_Styles': 1},\n",
      " {'Brewery': 'Brasserie IRVOY', 'N_Styles': 1},\n",
      " {'Brewery': 'Gallia Omnia', 'N_Styles': 1},\n",
      " {'Brewery': 'Brasserie La Belette', 'N_Styles': 1},\n",
      " {'Brewery': 'Mozencahua Brewery', 'N_Styles': 1},\n",
      " {'Brewery': 'Hobbybrouwerij de Hopjutters', 'N_Styles': 1}]\n"
     ]
    }
   ],
   "source": [
    "# Explore query:\n",
    "result = secure_graph.run(\"\"\"\n",
    "        MATCH \n",
    "            (brew:Breweries)-[ba:BREWED_AT]-(b:Beers)-[t:OF_TYPE]-(s:Style)\n",
    "        WITH\n",
    "            brew,\n",
    "            count(s) AS N_Styles\n",
    "        ORDER BY\n",
    "            N_Styles ASC\n",
    "        RETURN\n",
    "            brew[\"name\"] AS Brewery,\n",
    "            N_Styles\n",
    "        LIMIT 10\n",
    "\"\"\").data()\n",
    "\n",
    "pprint(result)"
   ]
  },
  {
   "cell_type": "markdown",
   "metadata": {},
   "source": [
    "At least each brewery has a Style of beer. Therefore, we take the average of the N_Styles."
   ]
  },
  {
   "cell_type": "code",
   "execution_count": 41,
   "metadata": {},
   "outputs": [
    {
     "name": "stdout",
     "output_type": "stream",
     "text": [
      "On average, a Brewery produces: 21.66, different styles of beer\n"
     ]
    }
   ],
   "source": [
    "# Final Query:\n",
    "result = secure_graph.run(\"\"\"\n",
    "        MATCH \n",
    "            (brew:Breweries)-[ba:BREWED_AT]-(b:Beers)-[t:OF_TYPE]-(s:Style)\n",
    "        WITH\n",
    "            brew,\n",
    "            count(s) AS N_Styles\n",
    "        RETURN\n",
    "            avg(N_Styles) AS Average\n",
    "        LIMIT 4\n",
    "\"\"\").data()\n",
    "\n",
    "print(f\"On average, a Brewery produces: {np.round(result[0]['Average'],2)}, different styles of beer\")"
   ]
  },
  {
   "cell_type": "code",
   "execution_count": 42,
   "metadata": {},
   "outputs": [
    {
     "data": {
      "text/plain": [
       "True"
      ]
     },
     "execution_count": 42,
     "metadata": {},
     "output_type": "execute_result"
    }
   ],
   "source": [
    "# Uploading the result to the redis database:\n",
    "r.set(\"6\", np.round(result[0]['Average'],2))"
   ]
  },
  {
   "cell_type": "markdown",
   "metadata": {},
   "source": [
    "#### 7) Which brewery produces the strongest beers according to ABV?"
   ]
  },
  {
   "cell_type": "code",
   "execution_count": 43,
   "metadata": {},
   "outputs": [
    {
     "name": "stdout",
     "output_type": "stream",
     "text": [
      "[{'ABV': 100.0, 'BeerName': 'water', 'Brewery': 'Avondale Brewing Co.'},\n",
      " {'ABV': 100.0,\n",
      "  'BeerName': 'Radiohead - OK Computer',\n",
      "  'Brewery': '1648 Brewing Company Ltd'},\n",
      " {'ABV': 100.0,\n",
      "  'BeerName': \"Earache: World's Shortest Album\",\n",
      "  'Brewery': '1648 Brewing Company Ltd'},\n",
      " {'ABV': 80.0,\n",
      "  'BeerName': 'Dark Reckoning',\n",
      "  'Brewery': 'Morgan Territory Brewing'},\n",
      " {'ABV': 67.5, 'BeerName': 'Snake Venom', 'Brewery': 'Brewmeister'},\n",
      " {'ABV': 66.0, 'BeerName': 'series 3', 'Brewery': 'Redline Brewhouse'},\n",
      " {'ABV': 65.0, 'BeerName': 'Armageddon', 'Brewery': 'Brewmeister'}]\n"
     ]
    }
   ],
   "source": [
    "result = secure_graph.run(\"\"\"\n",
    "        MATCH \n",
    "            (brew:Breweries)-[ba:BREWED_AT]-(b:Beers)\n",
    "        WITH\n",
    "            brew.name AS Brewery,\n",
    "            b.name AS BeerName,\n",
    "            toFloat(b.abv) AS ABV\n",
    "        ORDER BY\n",
    "            ABV DESC\n",
    "        WHERE\n",
    "            ABV >= 0 \n",
    "        RETURN\n",
    "            Brewery,\n",
    "            BeerName,\n",
    "            ABV\n",
    "        LIMIT 7\n",
    "\"\"\").data()\n",
    "\n",
    "#print(f\"The Brewery with the strongest beer acording to ABV is: \\'{result[0]['Brewery']}\\', with an ABV of {result[0]['ABV']} it\\'s name is: {result[0]['BeerName']}\")\n",
    "pprint(result)"
   ]
  },
  {
   "cell_type": "markdown",
   "metadata": {},
   "source": [
    "Although we have weird looking values for the ABV of beers, like water, Radiohead or Dark Reckoning, which has in fact 8% according to their website.\n",
    "\n",
    "Taking into consideration only the values that make sense, the beer with the highest ABV is Snake Venom, but, since it was clarified on teams, the answer to this question is on the query below:"
   ]
  },
  {
   "cell_type": "code",
   "execution_count": 44,
   "metadata": {},
   "outputs": [
    {
     "name": "stdout",
     "output_type": "stream",
     "text": [
      "The Brewery with the strongest beers by ABV is: '1648 Brewing Company Ltd', with an average ABV of 25.58\n"
     ]
    }
   ],
   "source": [
    "result = secure_graph.run(\"\"\"\n",
    "        MATCH \n",
    "            (brew:Breweries)-[ba:BREWED_AT]-(b:Beers)\n",
    "        WITH\n",
    "            brew.name AS Brewery,\n",
    "            b.name AS BeerName,\n",
    "            toFloat(b.abv) AS ABV\n",
    "        WHERE\n",
    "            ABV >= 0\n",
    "        RETURN\n",
    "            Brewery,\n",
    "            avg(ABV) AS AvgABV\n",
    "        ORDER BY\n",
    "            AvgABV DESC\n",
    "        LIMIT 5\n",
    "\"\"\").data()\n",
    "\n",
    "print(f\"The Brewery with the strongest beers by ABV is: \\'{result[0]['Brewery']}\\', with an average ABV of {np.round(result[0]['AvgABV'],2)}\")\n",
    "#pprint(result)"
   ]
  },
  {
   "cell_type": "code",
   "execution_count": 45,
   "metadata": {},
   "outputs": [
    {
     "data": {
      "text/plain": [
       "True"
      ]
     },
     "execution_count": 45,
     "metadata": {},
     "output_type": "execute_result"
    }
   ],
   "source": [
    "# Uploading the result to the redis database:\n",
    "r.set(\"7\", result[0]['Brewery'] )"
   ]
  },
  {
   "cell_type": "markdown",
   "metadata": {},
   "source": [
    "#### 8) If I typically enjoy a beer due to its aroma and appearance, which beer style should I try?"
   ]
  },
  {
   "cell_type": "code",
   "execution_count": 46,
   "metadata": {},
   "outputs": [
    {
     "name": "stdout",
     "output_type": "stream",
     "text": [
      "[{'AvgAppearance': 4.383595613210904,\n",
      "  'AvgAroma': 4.41361476476119,\n",
      "  'Style': 'New England IPA'},\n",
      " {'AvgAppearance': 4.286392481437848,\n",
      "  'AvgAroma': 4.2628841976746354,\n",
      "  'Style': 'American Imperial Stout'},\n",
      " {'AvgAppearance': 4.1749641745318,\n",
      "  'AvgAroma': 4.230876612146084,\n",
      "  'Style': 'Belgian Gueuze'},\n",
      " {'AvgAppearance': 4.195264823940161,\n",
      "  'AvgAroma': 4.1930865124172065,\n",
      "  'Style': 'American Imperial Porter'},\n",
      " {'AvgAppearance': 4.014417114510136,\n",
      "  'AvgAroma': 4.153730880529142,\n",
      "  'Style': 'German Eisbock'}]\n"
     ]
    }
   ],
   "source": [
    "result = secure_graph.run(\"\"\"\n",
    "        MATCH \n",
    "            (s:Style)-[t:OF_TYPE]-(b:Beers)-[:ABOUT]-(r:Reviews)\n",
    "        WHERE\n",
    "            r.look <> \"Unknown\" and r.smell <> \"Unknown\"\n",
    "        RETURN\n",
    "            s.name AS Style,\n",
    "            avg(toFloat(r.look)) AS AvgAppearance,\n",
    "            avg(toFloat(r.smell)) AS AvgAroma\n",
    "        ORDER BY\n",
    "            AvgAroma DESC,\n",
    "            AvgAppearance DESC\n",
    "        LIMIT 5\n",
    "\"\"\").data()\n",
    "\n",
    "pprint(result)"
   ]
  },
  {
   "cell_type": "code",
   "execution_count": 47,
   "metadata": {},
   "outputs": [
    {
     "name": "stdout",
     "output_type": "stream",
     "text": [
      "The recommended beer style for you is: 'New England IPA' \n"
     ]
    }
   ],
   "source": [
    "print(f\"The recommended beer style for you is: \\'{result[0]['Style']}\\' \")"
   ]
  },
  {
   "cell_type": "code",
   "execution_count": 48,
   "metadata": {},
   "outputs": [
    {
     "data": {
      "text/plain": [
       "True"
      ]
     },
     "execution_count": 48,
     "metadata": {},
     "output_type": "execute_result"
    }
   ],
   "source": [
    "# Uploading the result to the redis database:\n",
    "r.set(\"8\", result[0]['Style'] )"
   ]
  },
  {
   "cell_type": "markdown",
   "metadata": {},
   "source": [
    "#### 9) Using Graph Algorithms answer two of the following questions:\n",
    "\n",
    "    A. Which two Countries are most similiar when it comes to their **top 10** most produced Beer styles?\n",
    "    \n",
    "First let's create a graph in memory, for that, let's see if each of the nodes and relationships are well defined...\n",
    "\n",
    "Nodes:"
   ]
  },
  {
   "cell_type": "code",
   "execution_count": 49,
   "metadata": {},
   "outputs": [
    {
     "data": {
      "text/plain": [
       "[{'id': 59848},\n",
       " {'id': 59850},\n",
       " {'id': 59854},\n",
       " {'id': 59857},\n",
       " {'id': 59859},\n",
       " {'id': 59866},\n",
       " {'id': 59869},\n",
       " {'id': 59871},\n",
       " {'id': 59877},\n",
       " {'id': 59879},\n",
       " {'id': 59888},\n",
       " {'id': 59896},\n",
       " {'id': 59910},\n",
       " {'id': 59920},\n",
       " {'id': 59932},\n",
       " {'id': 59935},\n",
       " {'id': 59944},\n",
       " {'id': 59947},\n",
       " {'id': 59949},\n",
       " {'id': 59994},\n",
       " {'id': 60018},\n",
       " {'id': 60043},\n",
       " {'id': 60049},\n",
       " {'id': 60051},\n",
       " {'id': 60055},\n",
       " {'id': 60059},\n",
       " {'id': 60082},\n",
       " {'id': 60132},\n",
       " {'id': 60160},\n",
       " {'id': 60186},\n",
       " {'id': 60197},\n",
       " {'id': 60229},\n",
       " {'id': 60234},\n",
       " {'id': 60240},\n",
       " {'id': 60293},\n",
       " {'id': 60319},\n",
       " {'id': 60349},\n",
       " {'id': 60368},\n",
       " {'id': 60373},\n",
       " {'id': 60410},\n",
       " {'id': 60416},\n",
       " {'id': 60423},\n",
       " {'id': 60445},\n",
       " {'id': 60451},\n",
       " {'id': 60505},\n",
       " {'id': 60507},\n",
       " {'id': 60522},\n",
       " {'id': 60542},\n",
       " {'id': 60547},\n",
       " {'id': 60582},\n",
       " {'id': 60588},\n",
       " {'id': 60621},\n",
       " {'id': 60630},\n",
       " {'id': 60640},\n",
       " {'id': 60689},\n",
       " {'id': 60712},\n",
       " {'id': 60740},\n",
       " {'id': 60761},\n",
       " {'id': 60800},\n",
       " {'id': 60806},\n",
       " {'id': 60813},\n",
       " {'id': 60890},\n",
       " {'id': 60923},\n",
       " {'id': 60926},\n",
       " {'id': 60930},\n",
       " {'id': 60952},\n",
       " {'id': 60969},\n",
       " {'id': 60996},\n",
       " {'id': 61014},\n",
       " {'id': 61111},\n",
       " {'id': 61161},\n",
       " {'id': 61172},\n",
       " {'id': 61211},\n",
       " {'id': 61277},\n",
       " {'id': 61412},\n",
       " {'id': 61501},\n",
       " {'id': 61524},\n",
       " {'id': 61677},\n",
       " {'id': 61839},\n",
       " {'id': 61908},\n",
       " {'id': 61974},\n",
       " {'id': 61993},\n",
       " {'id': 62104},\n",
       " {'id': 62214},\n",
       " {'id': 62532},\n",
       " {'id': 62597},\n",
       " {'id': 62612},\n",
       " {'id': 62722},\n",
       " {'id': 62763},\n",
       " {'id': 62787},\n",
       " {'id': 62825},\n",
       " {'id': 62921},\n",
       " {'id': 62969},\n",
       " {'id': 63072},\n",
       " {'id': 63094},\n",
       " {'id': 63152},\n",
       " {'id': 63200},\n",
       " {'id': 63294},\n",
       " {'id': 63809},\n",
       " {'id': 63954},\n",
       " {'id': 63977},\n",
       " {'id': 64024},\n",
       " {'id': 64349},\n",
       " {'id': 64422},\n",
       " {'id': 64429},\n",
       " {'id': 64438},\n",
       " {'id': 64819},\n",
       " {'id': 64927},\n",
       " {'id': 65183},\n",
       " {'id': 65257},\n",
       " {'id': 65440},\n",
       " {'id': 65730},\n",
       " {'id': 66654},\n",
       " {'id': 66784},\n",
       " {'id': 66858},\n",
       " {'id': 66860},\n",
       " {'id': 67018},\n",
       " {'id': 67313},\n",
       " {'id': 67336},\n",
       " {'id': 67718},\n",
       " {'id': 67997},\n",
       " {'id': 68043},\n",
       " {'id': 68149},\n",
       " {'id': 68270},\n",
       " {'id': 68347},\n",
       " {'id': 68362},\n",
       " {'id': 68367},\n",
       " {'id': 69099},\n",
       " {'id': 69336},\n",
       " {'id': 69433},\n",
       " {'id': 69538},\n",
       " {'id': 69687},\n",
       " {'id': 69752},\n",
       " {'id': 69896},\n",
       " {'id': 70051},\n",
       " {'id': 70105},\n",
       " {'id': 70112},\n",
       " {'id': 70152},\n",
       " {'id': 70276},\n",
       " {'id': 70305},\n",
       " {'id': 70309},\n",
       " {'id': 70611},\n",
       " {'id': 70770},\n",
       " {'id': 71267},\n",
       " {'id': 71279},\n",
       " {'id': 71290},\n",
       " {'id': 71468},\n",
       " {'id': 71921},\n",
       " {'id': 72293},\n",
       " {'id': 72333},\n",
       " {'id': 72545},\n",
       " {'id': 73009},\n",
       " {'id': 73196},\n",
       " {'id': 73455},\n",
       " {'id': 74116},\n",
       " {'id': 74950},\n",
       " {'id': 75704},\n",
       " {'id': 75782},\n",
       " {'id': 76954},\n",
       " {'id': 77554},\n",
       " {'id': 77885},\n",
       " {'id': 78384},\n",
       " {'id': 78561},\n",
       " {'id': 80308},\n",
       " {'id': 81710},\n",
       " {'id': 82093},\n",
       " {'id': 82683},\n",
       " {'id': 84533},\n",
       " {'id': 85746},\n",
       " {'id': 87334},\n",
       " {'id': 88741},\n",
       " {'id': 89125},\n",
       " {'id': 89748},\n",
       " {'id': 90435},\n",
       " {'id': 90490},\n",
       " {'id': 91228},\n",
       " {'id': 91638},\n",
       " {'id': 92119},\n",
       " {'id': 92923},\n",
       " {'id': 93328},\n",
       " {'id': 94004},\n",
       " {'id': 94937},\n",
       " {'id': 95287},\n",
       " {'id': 95458},\n",
       " {'id': 96843},\n",
       " {'id': 98356},\n",
       " {'id': 98974},\n",
       " {'id': 99631},\n",
       " {'id': 99925},\n",
       " {'id': 100355},\n",
       " {'id': 102102},\n",
       " {'id': 103055},\n",
       " {'id': 103099},\n",
       " {'id': 103400},\n",
       " {'id': 103802},\n",
       " {'id': 104380},\n",
       " {'id': 104479},\n",
       " {'id': 106895},\n",
       " {'id': 107272},\n",
       " {'id': 109923},\n",
       " {'id': 110395},\n",
       " {'id': 110397},\n",
       " {'id': 110399},\n",
       " {'id': 110401},\n",
       " {'id': 110403},\n",
       " {'id': 110405},\n",
       " {'id': 110407},\n",
       " {'id': 110409},\n",
       " {'id': 110412},\n",
       " {'id': 110414}]"
      ]
     },
     "execution_count": 49,
     "metadata": {},
     "output_type": "execute_result"
    }
   ],
   "source": [
    "# TOP 10 styles by country.\n",
    "# (c:Country)<-[:FROM]-(brew:Breweries)-[ba:BREWED_AT]-(b:Beers)-[t:OF_TYPE]-(s:Style)\n",
    "secure_graph.run(\"\"\"\n",
    "    MATCH (c:Country) return id(c) as id \n",
    "    UNION ALL  \n",
    "    MATCH (s:Style) return id(s) as id\n",
    "    LIMIT 10\n",
    "\"\"\").data()"
   ]
  },
  {
   "cell_type": "markdown",
   "metadata": {},
   "source": [
    "Now, let's create the relationships between the nodes:"
   ]
  },
  {
   "cell_type": "code",
   "execution_count": 123,
   "metadata": {},
   "outputs": [
    {
     "data": {
      "text/plain": [
       "[{'source': 59850, 'target': 110409},\n",
       " {'source': 59850, 'target': 110426},\n",
       " {'source': 59850, 'target': 110444},\n",
       " {'source': 59850, 'target': 110457},\n",
       " {'source': 59850, 'target': 110446},\n",
       " {'source': 59850, 'target': 110401},\n",
       " {'source': 59850, 'target': 110439},\n",
       " {'source': 59850, 'target': 110470},\n",
       " {'source': 59850, 'target': 110479},\n",
       " {'source': 59850, 'target': 110539}]"
      ]
     },
     "execution_count": 123,
     "metadata": {},
     "output_type": "execute_result"
    }
   ],
   "source": [
    "# TOP 10 styles by country.\n",
    "secure_graph.run(\"\"\"\n",
    "    MATCH (c:Country)<-[]-()-[]-()-[]-(s:Style)\n",
    "    WITH c AS Country, s AS Styles, count(*) AS times\n",
    "    ORDER BY times DESC\n",
    "    WITH Country, collect(Styles)[..10] as top_10\n",
    "    UNWIND top_10 AS s_top_10\n",
    "    RETURN id(Country) AS source, id(s_top_10) AS target\n",
    "    LIMIT 10\n",
    "\"\"\").data()"
   ]
  },
  {
   "cell_type": "markdown",
   "metadata": {},
   "source": [
    "Visualizing the query above in a understandable way:"
   ]
  },
  {
   "cell_type": "code",
   "execution_count": 213,
   "metadata": {},
   "outputs": [
    {
     "data": {
      "text/plain": [
       "[{'source': 'US', 'target': 'American IPA'},\n",
       " {'source': 'US', 'target': 'American Pale Ale (APA)'},\n",
       " {'source': 'US', 'target': 'American Imperial IPA'},\n",
       " {'source': 'US', 'target': 'Belgian Saison'},\n",
       " {'source': 'US', 'target': 'American Wild Ale'},\n",
       " {'source': 'US', 'target': 'American Imperial Stout'},\n",
       " {'source': 'US', 'target': 'American Porter'},\n",
       " {'source': 'US', 'target': 'American Stout'},\n",
       " {'source': 'US', 'target': 'American Amber / Red Ale'},\n",
       " {'source': 'US', 'target': 'American Brown Ale'},\n",
       " {'source': 'CA', 'target': 'American IPA'},\n",
       " {'source': 'CA', 'target': 'American Pale Ale (APA)'},\n",
       " {'source': 'CA', 'target': 'Belgian Saison'},\n",
       " {'source': 'CA', 'target': 'American Wild Ale'},\n",
       " {'source': 'CA', 'target': 'Fruit and Field Beer'},\n",
       " {'source': 'CA', 'target': 'American Imperial IPA'},\n",
       " {'source': 'CA', 'target': 'American Amber / Red Ale'},\n",
       " {'source': 'CA', 'target': 'American Blonde Ale'},\n",
       " {'source': 'CA', 'target': 'American Porter'},\n",
       " {'source': 'CA', 'target': 'American Stout'}]"
      ]
     },
     "execution_count": 213,
     "metadata": {},
     "output_type": "execute_result"
    }
   ],
   "source": [
    "# TOP 10 styles by country.\n",
    "secure_graph.run(\"\"\"\n",
    "    MATCH (c:Country)<-[]-()-[]-()-[]-(s:Style)\n",
    "    WITH c AS Country, s AS Styles, count(*) AS times\n",
    "    ORDER BY times DESC\n",
    "    WITH Country, collect(Styles)[..10] as top_10\n",
    "    UNWIND top_10 AS s_top_10\n",
    "    RETURN Country.country_digit AS source, s_top_10.name AS target\n",
    "    LIMIT 20\n",
    "\"\"\").data()"
   ]
  },
  {
   "cell_type": "code",
   "execution_count": 222,
   "metadata": {},
   "outputs": [
    {
     "data": {
      "text/plain": [
       "[{'nodeQuery': 'MATCH (c:Country) return id(c) as id\\n        UNION ALL\\n        MATCH (s:Style) return id(s) as id',\n",
       "  'relationshipQuery': 'MATCH \\n            (c:Country)<-[]-()-[]-()-[]-(s:Style)\\n        WITH \\n            c AS Country, s AS Styles, count(*) AS times\\n        ORDER BY \\n            times DESC\\n        WITH \\n            Country, collect(Styles)[..10] as top_10\\n        UNWIND \\n            top_10 AS s_top_10\\n        RETURN \\n            id(Country) AS source, \\n            id(s_top_10) AS target',\n",
       "  'graphName': 'my-graph-group14_final',\n",
       "  'nodeCount': 313,\n",
       "  'relationshipCount': 1365,\n",
       "  'createMillis': 8047}]"
      ]
     },
     "execution_count": 222,
     "metadata": {},
     "output_type": "execute_result"
    }
   ],
   "source": [
    "# Creating in memory graph\n",
    "# (c:Country)<-[:FROM]-(brew:Breweries)-[ba:BREWED_AT]-(b:Beers)-[t:OF_TYPE]-(s:Style)\n",
    "\n",
    "secure_graph.run(\"\"\"                                    \n",
    "    CALL gds.graph.create.cypher(\n",
    "        'my-graph-group14_final',\n",
    "        'MATCH (c:Country) return id(c) as id\n",
    "        UNION ALL\n",
    "        MATCH (s:Style) return id(s) as id',\n",
    "        'MATCH \n",
    "            (c:Country)<-[]-()-[]-()-[]-(s:Style)\n",
    "        WITH \n",
    "            c AS Country, s AS Styles, count(*) AS times\n",
    "        ORDER BY \n",
    "            times DESC\n",
    "        WITH \n",
    "            Country, collect(Styles)[..10] as top_10\n",
    "        UNWIND \n",
    "            top_10 AS s_top_10\n",
    "        RETURN \n",
    "            id(Country) AS source, \n",
    "            id(s_top_10) AS target'\n",
    "    )\n",
    "\"\"\").data()"
   ]
  },
  {
   "cell_type": "markdown",
   "metadata": {},
   "source": [
    "Finally, let's get the similarity metrics between the countries that look more alike in their top 10 countries:"
   ]
  },
  {
   "cell_type": "code",
   "execution_count": 50,
   "metadata": {},
   "outputs": [
    {
     "name": "stdout",
     "output_type": "stream",
     "text": [
      "[{'Country1': 'TD', 'Country2': 'TJ', 'similarity': 1.0},\n",
      " {'Country1': 'TD', 'Country2': 'CF', 'similarity': 1.0},\n",
      " {'Country1': 'TD', 'Country2': 'ST', 'similarity': 1.0},\n",
      " {'Country1': 'TD', 'Country2': 'YT', 'similarity': 1.0},\n",
      " {'Country1': 'TD', 'Country2': 'BF', 'similarity': 1.0},\n",
      " {'Country1': 'TD', 'Country2': 'AO', 'similarity': 1.0},\n",
      " {'Country1': 'IR', 'Country2': 'LY', 'similarity': 1.0},\n",
      " {'Country1': 'IR', 'Country2': 'BW', 'similarity': 1.0},\n",
      " {'Country1': 'TD', 'Country2': 'SN', 'similarity': 1.0},\n",
      " {'Country1': 'TD', 'Country2': 'MO', 'similarity': 1.0}]\n"
     ]
    }
   ],
   "source": [
    "result = secure_graph.run(\"\"\"     \n",
    "CALL gds.nodeSimilarity.stream('my-graph-group14_final')\n",
    "YIELD node1, node2, similarity\n",
    "RETURN gds.util.asNode(node1).country_digit AS Country1, gds.util.asNode(node2).country_digit AS Country2, similarity\n",
    "ORDER BY similarity DESCENDING\n",
    "LIMIT 10\n",
    "\"\"\").data()\n",
    "\n",
    "pprint(result)"
   ]
  },
  {
   "cell_type": "code",
   "execution_count": 51,
   "metadata": {},
   "outputs": [
    {
     "name": "stdout",
     "output_type": "stream",
     "text": [
      "The countries with that look the most alike based on their top 10 beer styles are TD and TJ\n"
     ]
    }
   ],
   "source": [
    "print(f\"The countries with that look the most alike based on their top 10 beer styles are {result[0]['Country1']} and {result[0]['Country2']}\")"
   ]
  },
  {
   "cell_type": "code",
   "execution_count": 53,
   "metadata": {},
   "outputs": [
    {
     "data": {
      "text/plain": [
       "True"
      ]
     },
     "execution_count": 53,
     "metadata": {},
     "output_type": "execute_result"
    }
   ],
   "source": [
    "# Uploading the result to the redis database:\n",
    "r.set(\"9A\", result[0]['Country1'] + ' and ' + result[0]['Country2'] )"
   ]
  },
  {
   "cell_type": "markdown",
   "metadata": {},
   "source": [
    "#### 9.C) Which user is the most influential when it comes to reviews made?\n",
    "\n",
    "To find influence within the users in the database we will apply the page rank algorithm to the users and reviews nodes."
   ]
  },
  {
   "cell_type": "code",
   "execution_count": 55,
   "metadata": {},
   "outputs": [],
   "source": [
    "data = secure_graph.run(\n",
    "    \"\"\"\n",
    "        CALL gds.graph.create(\n",
    "            '9c-group14-my-graph',\n",
    "            [\n",
    "                'Username',\n",
    "                'Reviews'\n",
    "            ],\n",
    "            {\n",
    "                MADE: {\n",
    "                    orientation: 'REVERSE'\n",
    "                }\n",
    "            }\n",
    "        )\n",
    "    \"\"\"\n",
    ").data()"
   ]
  },
  {
   "cell_type": "code",
   "execution_count": 56,
   "metadata": {},
   "outputs": [
    {
     "data": {
      "text/plain": [
       "[{'username': 'Sammy', 'score': 1759.3714309692384},\n",
       " {'username': 'kylehay2004', 'score': 1558.297300720215},\n",
       " {'username': 'acurtis', 'score': 1532.1618240356445},\n",
       " {'username': 'StonedTrippin', 'score': 1512.1404693603515},\n",
       " {'username': 'jaydoc', 'score': 1504.620169067383},\n",
       " {'username': 'UCLABrewN84', 'score': 1433.0861373901369},\n",
       " {'username': 'Texasfan549', 'score': 1425.9496963500976},\n",
       " {'username': 'kjkinsey', 'score': 1307.375163269043},\n",
       " {'username': 'GRG1313', 'score': 1277.7963668823243},\n",
       " {'username': 'Knapp85', 'score': 1249.6200134277344}]"
      ]
     },
     "execution_count": 56,
     "metadata": {},
     "output_type": "execute_result"
    }
   ],
   "source": [
    "data = secure_graph.run(\n",
    "    \"\"\"\n",
    "        CALL gds.pageRank.stream('9c-group14-my-graph') \n",
    "        YIELD nodeId, score\n",
    "        RETURN gds.util.asNode(nodeId).user_name AS username, score\n",
    "        ORDER BY score DESC \n",
    "        LIMIT 10\n",
    "    \"\"\"\n",
    ").data()\n",
    "data"
   ]
  },
  {
   "cell_type": "code",
   "execution_count": 57,
   "metadata": {},
   "outputs": [
    {
     "name": "stdout",
     "output_type": "stream",
     "text": [
      "The most influential user is: 'Sammy' \n"
     ]
    }
   ],
   "source": [
    "print(f\"The most influential user is: \\'{data[0]['username']}\\' \")"
   ]
  },
  {
   "cell_type": "code",
   "execution_count": 58,
   "metadata": {},
   "outputs": [
    {
     "data": {
      "text/plain": [
       "True"
      ]
     },
     "execution_count": 58,
     "metadata": {},
     "output_type": "execute_result"
    }
   ],
   "source": [
    "# Uploading the result to the redis database:\n",
    "r.set(\"9C\", data[0]['username'] )"
   ]
  },
  {
   "cell_type": "markdown",
   "metadata": {},
   "source": [
    "#### 10) If you had to pick 3 beers to recommend using only this database, which would you pick and why?\n",
    "\n",
    "We will assess the beers to recommend based on the total number of reviews, higher than average overall score and higher than average taste score. Being the average overall score when is over 4."
   ]
  },
  {
   "cell_type": "code",
   "execution_count": 59,
   "metadata": {},
   "outputs": [
    {
     "data": {
      "text/plain": [
       "[{'BeerName': 'Imperial Stout',\n",
       "  'NumberReviews': 10176,\n",
       "  'AvgOverall': 4.1334512578616245,\n",
       "  'AvgTaste': 4.1940104166666865},\n",
       " {'BeerName': 'Breakfast Stout',\n",
       "  'NumberReviews': 7663,\n",
       "  'AvgOverall': 4.435958501892222,\n",
       "  'AvgTaste': 4.491060942189744},\n",
       " {'BeerName': 'KBS (Kentucky Breakfast Stout)',\n",
       "  'NumberReviews': 7042,\n",
       "  'AvgOverall': 4.526732462368638,\n",
       "  'AvgTaste': 4.592125816529386}]"
      ]
     },
     "execution_count": 59,
     "metadata": {},
     "output_type": "execute_result"
    }
   ],
   "source": [
    "result = secure_graph.run(\"\"\"\n",
    "        MATCH \n",
    "            (b:Beers)-[:ABOUT]-(r:Reviews)\n",
    "        WHERE\n",
    "            r.taste <> \"Unknown\" and r.overall <> \"Unknown\"\n",
    "        WITH \n",
    "            b.name AS BeerName,\n",
    "            count(r) AS NumberReviews,\n",
    "            avg(toFloat(r.overall)) AS AvgOverall,\n",
    "            avg(toFloat(r.taste)) AS AvgTaste\n",
    "        WHERE\n",
    "            AvgOverall > 4\n",
    "        RETURN \n",
    "            BeerName,\n",
    "            NumberReviews,\n",
    "            AvgOverall,\n",
    "            AvgTaste\n",
    "        ORDER BY\n",
    "            NumberReviews DESC,\n",
    "            AvgOverall DESC,\n",
    "            AvgTaste DESC\n",
    "        LIMIT 3\n",
    "\"\"\").data()\n",
    "\n",
    "result"
   ]
  },
  {
   "cell_type": "code",
   "execution_count": 60,
   "metadata": {},
   "outputs": [
    {
     "name": "stdout",
     "output_type": "stream",
     "text": [
      "The 3 beers we recommend are:\n",
      "['Imperial Stout', 'Breakfast Stout', 'KBS (Kentucky Breakfast Stout)']\n"
     ]
    }
   ],
   "source": [
    "print(f\"The 3 beers we recommend are:\\n{[ result[i]['BeerName'] for i in range(len(result)) ]}\")"
   ]
  },
  {
   "cell_type": "code",
   "execution_count": 61,
   "metadata": {},
   "outputs": [
    {
     "data": {
      "text/plain": [
       "True"
      ]
     },
     "execution_count": 61,
     "metadata": {},
     "output_type": "execute_result"
    }
   ],
   "source": [
    "# Uploading the result to the redis database:\n",
    "r.set(\"10\", result[0]['BeerName'] + ' - ' + result[1]['BeerName'] + ' - ' + result[2]['BeerName'] )"
   ]
  }
 ],
 "metadata": {
  "kernelspec": {
   "display_name": "Python 3",
   "language": "python",
   "name": "python3"
  },
  "language_info": {
   "codemirror_mode": {
    "name": "ipython",
    "version": 3
   },
   "file_extension": ".py",
   "mimetype": "text/x-python",
   "name": "python",
   "nbconvert_exporter": "python",
   "pygments_lexer": "ipython3",
   "version": "3.8.5"
  }
 },
 "nbformat": 4,
 "nbformat_minor": 4
}
